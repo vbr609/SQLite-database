{
 "cells": [
  {
   "cell_type": "markdown",
   "id": "a6871523-5db4-4a5a-ad64-1cbe99cd8e08",
   "metadata": {},
   "source": [
    "# Step 1: Install & import required Libaries"
   ]
  },
  {
   "cell_type": "code",
   "execution_count": 3,
   "id": "7f5415d4-502d-4234-af3e-f9675e4e1920",
   "metadata": {},
   "outputs": [],
   "source": [
    "# Install SQLite3 (comes built in with python)\n",
    "import sqlite3\n",
    "\n",
    "\n",
    "import pandas as pd\n",
    "\n",
    "# Install seaborn & matplotlib for visualization\n",
    "import matplotlib.pyplot as plt\n",
    "import seaborn as sns\n",
    "\n",
    "# This method hides any warning in your Jupyter notebook\n",
    "import warnings\n",
    "warnings.filterwarnings('ignore')\n"
   ]
  },
  {
   "cell_type": "markdown",
   "id": "57f3f1e7-b454-460f-bdbc-403e71e33a28",
   "metadata": {},
   "source": [
    "# step 2: Create a new SQLite database and table"
   ]
  },
  {
   "cell_type": "code",
   "execution_count": 5,
   "id": "57aa8c56-58a4-4765-b456-ae838c8aa566",
   "metadata": {},
   "outputs": [
    {
     "data": {
      "text/plain": [
       "<sqlite3.Cursor at 0x27c7ad34040>"
      ]
     },
     "execution_count": 5,
     "metadata": {},
     "output_type": "execute_result"
    }
   ],
   "source": [
    "# Connect to SQLite database (creates a new file if it doesn't exist)\n",
    "conn = sqlite3.connect(\"customer_data.db\")\n",
    "\n",
    "#create a cursor to interact with the database\n",
    "cursor = conn.cursor()\n",
    "\n",
    "#create a sample table\n",
    "cursor.execute(\"\"\"\n",
    "CREATE TABLE IF NOT EXISTS customers (\n",
    "    id INTEGER PRIMARY KEY AUTOINCREMENT,\n",
    "    name TEXT,\n",
    "    age INTEGER,\n",
    "    city TEXT,\n",
    "    total_spent REAL\n",
    ")\n",
    "\"\"\")\n"
   ]
  },
  {
   "cell_type": "markdown",
   "id": "83df7fda-7895-420b-b2b4-999144508dfb",
   "metadata": {},
   "source": [
    "# step 3: Insert sample data into the SQL table"
   ]
  },
  {
   "cell_type": "code",
   "execution_count": 22,
   "id": "ee4479fc-0a97-48ba-9b22-66412fa7323e",
   "metadata": {},
   "outputs": [],
   "source": [
    "# Sample data  to insert\n",
    "# Insert multiple records into the customers table\n",
    "\n",
    "# Connect to the database (or create it)\n",
    "import sqlite3\n",
    "\n",
    "# Connect to a new database\n",
    "conn = sqlite3.connect(\"customers.db\")\n",
    "cursor = conn.cursor()\n",
    "\n",
    "# Create table\n",
    "cursor.execute(\"\"\"\n",
    "    CREATE TABLE IF NOT EXISTS customers (\n",
    "        id INTEGER PRIMARY KEY AUTOINCREMENT,\n",
    "        name TEXT,\n",
    "        age INTEGER,\n",
    "        city TEXT,\n",
    "        total_spent REAL\n",
    "    )\n",
    "\"\"\")\n",
    "\n",
    "# Define the data\n",
    "data = [\n",
    "    (\"Alice\", 30, \"KA\", 250.75),\n",
    "    (\"Bob\", 45, \"AP\", 150.00),\n",
    "    (\"Charlie\", 28, \"TN\", 320.50),\n",
    "    (\"Emm\", 32, \"KL\", 400.75)\n",
    "]\n",
    "\n",
    "# Insert data into the table\n",
    "cursor.executemany(\"INSERT INTO customers (name, age, city, total_spent) VALUES (?, ?, ?, ?)\", data)\n",
    "\n",
    "# Commit and close\n",
    "conn.commit()\n",
    "conn.close()\n",
    "\n",
    "conn.close()\n"
   ]
  },
  {
   "cell_type": "markdown",
   "id": "b37ed42a-7a95-46a3-9050-c51d237b04d8",
   "metadata": {},
   "source": [
    "# step 4: Run SQL queries Inside Jupyter Notebook"
   ]
  },
  {
   "cell_type": "code",
   "execution_count": 24,
   "id": "d0c45018-4873-44a4-ae6d-8c1654fd2dae",
   "metadata": {},
   "outputs": [
    {
     "name": "stdout",
     "output_type": "stream",
     "text": [
      "    id   name city  age\n",
      "0  101  Alice   KA   30\n",
      "1  102    Bob   AP   45\n"
     ]
    }
   ],
   "source": [
    "# Run a SQL query to retrieve all data\n",
    "import sqlite3\n",
    "import pandas as pd\n",
    "\n",
    "# Create a new SQLite database in memory (just for testing)\n",
    "conn = sqlite3.connect(':memory:')\n",
    "conn.execute('CREATE TABLE customers (id INTEGER, name TEXT, city TEXT, age INTEGE)')\n",
    "conn.execute('INSERT INTO customers VALUES (101, \"Alice\", \"KA\", 30), (102, \"Bob\", \"AP\", 45)')\n",
    "\n",
    "df = pd.read_sql(\"SELECT * FROM customers\", conn)\n",
    "print(df)\n",
    "conn.close()\n"
   ]
  },
  {
   "cell_type": "markdown",
   "id": "ecddbedd-26a0-4191-b827-e1e06ab1df87",
   "metadata": {},
   "source": [
    "# step 5 : Perform data analysis using SQL queries"
   ]
  },
  {
   "cell_type": "code",
   "execution_count": 26,
   "id": "fbdea950-f1cc-478e-9741-f8c3fb75f133",
   "metadata": {},
   "outputs": [
    {
     "name": "stdout",
     "output_type": "stream",
     "text": [
      "Empty DataFrame\n",
      "Columns: [id, name, age, city, total_spent]\n",
      "Index: []\n"
     ]
    }
   ],
   "source": [
    "import sqlite3\n",
    "import pandas as pd\n",
    "\n",
    "# Reconnect to the database\n",
    "conn = sqlite3.connect(\"customers.db\")\n",
    "\n",
    "# Run your query\n",
    "query = \"SELECT * FROM customers WHERE total_spent > 500\"\n",
    "df = pd.read_sql(query, conn)\n",
    "\n",
    "# Show results\n",
    "print(df)\n",
    "\n",
    "# Close the connection when you're done\n",
    "conn.close()\n"
   ]
  },
  {
   "cell_type": "code",
   "execution_count": 29,
   "id": "bd90ab96-bb53-4202-9125-1fc429ab5b5d",
   "metadata": {},
   "outputs": [
    {
     "name": "stdout",
     "output_type": "stream",
     "text": [
      "   average_age\n",
      "0        33.75\n"
     ]
    }
   ],
   "source": [
    "#find the average customer age\n",
    "\n",
    "def run_query(query, db_path=\"customers.db\"):\n",
    "    with sqlite3.connect(db_path) as conn:\n",
    "        return pd.read_sql(query, conn)\n",
    "\n",
    "# Example use\n",
    "df = run_query(\"SELECT AVG(age) AS average_age FROM customers\")\n",
    "print(df)\n"
   ]
  },
  {
   "cell_type": "code",
   "execution_count": 31,
   "id": "b7bf3013-4281-4e3d-946f-be13db9dd6b7",
   "metadata": {},
   "outputs": [
    {
     "name": "stdout",
     "output_type": "stream",
     "text": [
      "  city  num_customers\n",
      "0   AP              1\n",
      "1   KA              1\n",
      "2   KL              1\n",
      "3   TN              1\n"
     ]
    }
   ],
   "source": [
    "def run_query(query, db_path=\"customers.db\"):\n",
    "    with sqlite3.connect(db_path) as conn:\n",
    "        return pd.read_sql(query, conn)\n",
    "\n",
    "# Example usage\n",
    "df = run_query(\"SELECT city, COUNT(*) AS num_customers FROM customers GROUP BY city\")\n",
    "print(df)\n"
   ]
  },
  {
   "cell_type": "markdown",
   "id": "01f85bd7-fa26-4e0a-adfd-ec5e8af93794",
   "metadata": {},
   "source": [
    "# step 6: Visuaizing SQL query results using python"
   ]
  },
  {
   "cell_type": "code",
   "execution_count": 34,
   "id": "adf307fb-32a2-4483-971a-284448d8daea",
   "metadata": {},
   "outputs": [
    {
     "data": {
      "image/png": "[encoded data removed]",
      "text/plain": [
       "<Figure size 640x480 with 1 Axes>"
      ]
     },
     "metadata": {},
     "output_type": "display_data"
    }
   ],
   "source": [
    "import matplotlib.pyplot as plt\n",
    "import sqlite3\n",
    "import pandas as pd\n",
    "\n",
    "# Reconnect to the database\n",
    "conn = sqlite3.connect(\"customers.db\")\n",
    "\n",
    "# Query the total sales by city\n",
    "query = \"\"\"\n",
    "SELECT city, SUM(total_spent) AS total_sales\n",
    "FROM customers\n",
    "GROUP BY city\n",
    "\"\"\"\n",
    "df = pd.read_sql(query, conn)\n",
    "\n",
    "# Close the connection\n",
    "conn.close()\n",
    "\n",
    "# Plot the data\n",
    "plt.bar(df['city'], df['total_sales'])\n",
    "plt.title(\"Total Sales by City\")  # Fixed title here\n",
    "plt.xlabel(\"City\")\n",
    "plt.ylabel(\"Total Sales\")\n",
    "plt.xticks(rotation=45)\n",
    "plt.show()\n"
   ]
  },
  {
   "cell_type": "markdown",
   "id": "9ee0c460-fc8e-4507-95a1-e82a1503bfe0",
   "metadata": {},
   "source": [
    "# Step 7 : close the SQL connection"
   ]
  },
  {
   "cell_type": "code",
   "execution_count": null,
   "id": "0e124d9d-333e-4dde-a5fc-3a771f0816de",
   "metadata": {},
   "outputs": [],
   "source": [
    "conn.close()"
   ]
  }
 ],
 "metadata": {
  "kernelspec": {
   "display_name": "Python 3 (ipykernel)",
   "language": "python",
   "name": "python3"
  },
  "language_info": {
   "codemirror_mode": {
    "name": "ipython",
    "version": 3
   },
   "file_extension": ".py",
   "mimetype": "text/x-python",
   "name": "python",
   "nbconvert_exporter": "python",
   "pygments_lexer": "ipython3",
   "version": "3.12.7"
  }
 },
 "nbformat": 4,
 "nbformat_minor": 5
}
